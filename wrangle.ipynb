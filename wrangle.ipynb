{
 "cells": [
  {
   "cell_type": "markdown",
   "metadata": {},
   "source": [
    "# Effect of U.S. Tariff Threats Map - Data Analysis & Cleaning"
   ]
  },
  {
   "cell_type": "markdown",
   "metadata": {},
   "source": [
    "The project analyzed changes in U.S. imports from Canada and Mexico between November 2024 and January 2025 using transborder freight data, processed and normalized in Python for GIS mapping, and displayed in ArcGIS and Tableau.\n",
    "\n",
    "*A quick side note that the ESRI shapefile field length is only 10 characters - that's why all of the field names are very short!*"
   ]
  },
  {
   "cell_type": "markdown",
   "metadata": {},
   "source": [
    "## Importing Libraries & Data"
   ]
  },
  {
   "cell_type": "code",
   "execution_count": 8,
   "metadata": {},
   "outputs": [],
   "source": [
    "import pandas as pd\n",
    "import numpy as np\n",
    "import matplotlib.pyplot as plt\n",
    "import os"
   ]
  },
  {
   "cell_type": "code",
   "execution_count": null,
   "metadata": {},
   "outputs": [],
   "source": [
    "# open all data files in directory\n",
    "jan25_data = 'data/raw/Jan2025/dot1_0125.csv'\n",
    "dec24_data = 'data/raw/December2024/dot1_1224.csv'\n",
    "nov24_data = 'data/raw/Nov2024/dot1_1124.csv'\n",
    "\n",
    "# read in all data files\n",
    "jan25_df = pd.read_csv(jan25_data)\n",
    "dec24_df = pd.read_csv(dec24_data)\n",
    "nov24_df = pd.read_csv(nov24_data)\n",
    "\n",
    "# head of each data file\n",
    "print(jan25_df.head())\n",
    "print(dec24_df.head())\n",
    "print(nov24_df.head())"
   ]
  },
  {
   "cell_type": "markdown",
   "metadata": {},
   "source": [
    "At this point, all of our freight data is loaded into dataframes. "
   ]
  },
  {
   "cell_type": "markdown",
   "metadata": {},
   "source": [
    "## Imports"
   ]
  },
  {
   "cell_type": "markdown",
   "metadata": {},
   "source": [
    "We are initially going to look at imports, because that is what the initial tariffs threatened - a \"tax on imports\" for Mexico and Canada."
   ]
  },
  {
   "cell_type": "code",
   "execution_count": null,
   "metadata": {},
   "outputs": [],
   "source": [
    "# filter for imports\n",
    "jan25_df_i = jan25_df[jan25_df['TRDTYPE'] == 2]\n",
    "dec24_df_i = dec24_df[dec24_df['TRDTYPE'] == 2]\n",
    "nov24_df_i = nov24_df[nov24_df['TRDTYPE'] == 2]"
   ]
  },
  {
   "cell_type": "markdown",
   "metadata": {},
   "source": [
    "From the .CSV documentation, we can see that the country codes for Mexico and Canada are 2010 and 1220, respectively."
   ]
  },
  {
   "cell_type": "code",
   "execution_count": null,
   "metadata": {},
   "outputs": [],
   "source": [
    "# filter for canada\n",
    "jan25_df_ca = jan25_df_i[jan25_df_i['COUNTRY'] == 1220]\n",
    "dec24_df_ca = dec24_df_i[dec24_df_i['COUNTRY'] == 1220]\n",
    "nov24_df_ca = nov24_df_i[nov24_df_i['COUNTRY'] == 1220]\n",
    "\n",
    "jan25_sum_ca = jan25_df_ca.groupby('USASTATE')['VALUE'].sum()\n",
    "dec24_sum_ca = dec24_df_ca.groupby('USASTATE')['VALUE'].sum()\n",
    "nov24_sum_ca = nov24_df_ca.groupby('USASTATE')['VALUE'].sum()"
   ]
  },
  {
   "cell_type": "markdown",
   "metadata": {},
   "source": [
    "This is the sum of all imports from Canada to the US by state."
   ]
  },
  {
   "cell_type": "code",
   "execution_count": null,
   "metadata": {},
   "outputs": [],
   "source": [
    "# sum all dataframes\n",
    "all_sum_cI = jan25_sum_ca + dec24_sum_ca + nov24_sum_ca"
   ]
  },
  {
   "cell_type": "code",
   "execution_count": null,
   "metadata": {},
   "outputs": [],
   "source": [
    "# filter for mexico\n",
    "jan25_df_mx = jan25_df[jan25_df['COUNTRY'] == 2010]\n",
    "dec24_df_mx = dec24_df[dec24_df['COUNTRY'] == 2010]\n",
    "nov24_df_mx = nov24_df[nov24_df['COUNTRY'] == 2010]\n",
    "\n",
    "jan25_sum_mx = jan25_df_mx.groupby('USASTATE')['VALUE'].sum()\n",
    "dec24_sum_mx = dec24_df_mx.groupby('USASTATE')['VALUE'].sum()\n",
    "nov24_sum_mx = nov24_df_mx.groupby('USASTATE')['VALUE'].sum()\n",
    "\n",
    "all_sum_mI = jan25_sum_mx + dec24_sum_mx + nov24_sum_mx\n",
    "\n",
    "print(jan25_sum_mx)\n",
    "print(dec24_sum_mx)\n",
    "print(nov24_sum_mx)"
   ]
  },
  {
   "cell_type": "markdown",
   "metadata": {},
   "source": [
    "## Exports"
   ]
  },
  {
   "cell_type": "code",
   "execution_count": null,
   "metadata": {},
   "outputs": [],
   "source": [
    "# filter for exports\n",
    "jan25_df_e = jan25_df[jan25_df['TRDTYPE'] == 1]\n",
    "dec24_df_e = dec24_df[dec24_df['TRDTYPE'] == 1]\n",
    "nov24_df_e = nov24_df[nov24_df['TRDTYPE'] == 1]\n",
    "print(jan25_df_e.head())"
   ]
  },
  {
   "cell_type": "code",
   "execution_count": null,
   "metadata": {},
   "outputs": [],
   "source": [
    "# sum of exports to canada for each state\n",
    "\n",
    "# filter for canada\n",
    "jan25_df_cE = jan25_df_e[jan25_df_e['COUNTRY'] == 1220]\n",
    "dec24_df_cE = dec24_df_e[dec24_df_e['COUNTRY'] == 1220]\n",
    "nov24_df_cE = nov24_df_e[nov24_df_e['COUNTRY'] == 1220]\n",
    "\n",
    "jan25_sum_cE = jan25_df_cE.groupby('USASTATE')['VALUE'].sum()\n",
    "dec24_sum_cE = dec24_df_cE.groupby('USASTATE')['VALUE'].sum()\n",
    "nov24_sum_cE = nov24_df_cE.groupby('USASTATE')['VALUE'].sum()\n",
    "\n",
    "all_sum_cE = jan25_sum_cE + dec24_sum_cE + nov24_sum_cE\n",
    "\n",
    "print(jan25_sum_cE)\n",
    "print(dec24_sum_cE)\n",
    "print(nov24_sum_cE)\n"
   ]
  },
  {
   "cell_type": "code",
   "execution_count": null,
   "metadata": {},
   "outputs": [],
   "source": [
    "# sum of exports to mexico for each state\n",
    "jan25_df_mE = jan25_df_e[jan25_df_e['COUNTRY'] == 2010]\n",
    "dec24_df_mE = dec24_df_e[dec24_df_e['COUNTRY'] == 2010]\n",
    "nov24_df_mE = nov24_df_e[nov24_df_e['COUNTRY'] == 2010]\n",
    "\n",
    "jan25_sum_mE = jan25_df_mE.groupby('USASTATE')['VALUE'].sum()\n",
    "dec24_sum_mE = dec24_df_mE.groupby('USASTATE')['VALUE'].sum()\n",
    "nov24_sum_mE = nov24_df_mE.groupby('USASTATE')['VALUE'].sum()\n",
    "\n",
    "all_sum_mE = jan25_sum_mE + dec24_sum_mE + nov24_sum_mE\n",
    "\n",
    "print(jan25_sum_mE)\n",
    "print(dec24_sum_mE)\n",
    "print(nov24_sum_mE)"
   ]
  },
  {
   "cell_type": "markdown",
   "metadata": {},
   "source": [
    "## import our usa state boundaries .shp\n",
    "source: [census](https://www.census.gov/geographies/mapping-files/time-series/geo/carto-boundary-file.html)"
   ]
  },
  {
   "cell_type": "markdown",
   "metadata": {},
   "source": [
    "### join the state codes to the .shp"
   ]
  },
  {
   "cell_type": "code",
   "execution_count": null,
   "metadata": {},
   "outputs": [],
   "source": [
    "import geopandas as gpd\n",
    "\n",
    "shp_path = r\"C:\\Users\\test\\OneDrive - University of Victoria\\W2025\\geog323\\final-proj\\data\\raw\\us_states\\us_states.shp\"\n",
    "\n",
    "# read in shapefile\n",
    "us_states = gpd.read_file(shp_path)\n",
    "print(us_states.head())"
   ]
  },
  {
   "cell_type": "code",
   "execution_count": null,
   "metadata": {},
   "outputs": [],
   "source": [
    "#Canada\n",
    "# add the import data to the shapefile\n",
    "\n",
    "# merge the november import sum data into the shapefile\n",
    "us_states = us_states.merge(nov24_sum_ca, left_on='STUSPS', right_on='USASTATE', how='left')\n",
    "us_states = us_states.rename(columns={'VALUE': 'nov24sum_c'})\n",
    "us_states['nov24sum_c'] = us_states['nov24sum_c'].fillna(0)\n",
    "\n",
    "# merge the december import sum data into the shapefile\n",
    "us_states = us_states.merge(dec24_sum_ca, left_on='STUSPS', right_on='USASTATE', how='left')\n",
    "us_states = us_states.rename(columns={'VALUE': 'dec24sum_c'})\n",
    "us_states['dec24sum_c'] = us_states['dec24sum_c'].fillna(0)\n",
    "\n",
    "# merge the january import sum data into the shapefile\n",
    "us_states = us_states.merge(jan25_sum_ca, left_on='STUSPS', right_on='USASTATE', how='left')\n",
    "us_states = us_states.rename(columns={'VALUE': 'jan25sum_c'})\n",
    "us_states['jan25sum_c'] = us_states['jan25sum_c'].fillna(0)\n",
    "\n",
    "# merge the november export sum data into the shapefile\n",
    "us_states = us_states.merge(nov24_sum_cE, left_on='STUSPS', right_on='USASTATE', how='left')\n",
    "us_states = us_states.rename(columns={'VALUE': 'nov24sumcE'})\n",
    "\n",
    "# merge the december export sum data into the shapefile\n",
    "us_states = us_states.merge(dec24_sum_cE, left_on='STUSPS', right_on='USASTATE', how='left')\n",
    "us_states = us_states.rename(columns={'VALUE': 'dec24sumcE'})\n",
    "\n",
    "# merge the january export sum data into the shapefile\n",
    "us_states = us_states.merge(jan25_sum_cE, left_on='STUSPS', right_on='USASTATE', how='left')\n",
    "us_states = us_states.rename(columns={'VALUE': 'jan25sumcE'})\n",
    "\n",
    "# merge the sum of canadian imports into the shapefile\n",
    "us_states = us_states.merge(all_sum_cI, left_on='STUSPS', right_on='USASTATE', how='left')\n",
    "us_states = us_states.rename(columns={'VALUE': 'all_sum_cI'})\n",
    "\n",
    "# merge the sum of canadian exports into the shapefile\n",
    "us_states = us_states.merge(all_sum_cE, left_on='STUSPS', right_on='USASTATE', how='left')\n",
    "us_states = us_states.rename(columns={'VALUE': 'all_sum_cE'})\n",
    "\n",
    "# merge the deficit/surplus for canada into the shapefile\n",
    "us_states = us_states.merge(all_ds_c, left_on='STUSPS', right_on='USASTATE', how='left')\n",
    "us_states = us_states.rename(columns={'VALUE': 'all_ds_c'})\n",
    "\n",
    "\n",
    "print(us_states.head())"
   ]
  },
  {
   "cell_type": "code",
   "execution_count": null,
   "metadata": {},
   "outputs": [],
   "source": [
    "\n",
    "#mexico\n",
    "# merge the november import sum data into the shapefile\n",
    "us_states = us_states.merge(nov24_sum_mx, left_on='STUSPS', right_on='USASTATE', how='left')\n",
    "us_states = us_states.rename(columns={'VALUE': 'nov24sum_m'})\n",
    "us_states['nov24sum_m'] = us_states['nov24sum_m'].fillna(0) # fill NaN with 0\n",
    "\n",
    "# merge the december import sum data into the shapefile\n",
    "us_states = us_states.merge(dec24_sum_mx, left_on='STUSPS', right_on='USASTATE', how='left')\n",
    "us_states = us_states.rename(columns={'VALUE': 'dec24sum_m'})\n",
    "us_states['dec24sum_m'] = us_states['dec24sum_m'].fillna(0) # fill NaN with 0\n",
    "\n",
    "# merge the january import sum data into the shapefile\n",
    "us_states = us_states.merge(jan25_sum_mx, left_on='STUSPS', right_on='USASTATE', how='left')\n",
    "us_states = us_states.rename(columns={'VALUE': 'jan25sum_m'})\n",
    "us_states['jan25sum_m'] = us_states['jan25sum_m'].fillna(0) # fill NaN with 0\n",
    "\n",
    "# merge the november export sum data into the shapefile\n",
    "us_states = us_states.merge(nov24_sum_mE, left_on='STUSPS', right_on='USASTATE', how='left')\n",
    "us_states = us_states.rename(columns={'VALUE': 'nov24summE'})\n",
    "\n",
    "# merge the december export sum data into the shapefile\n",
    "us_states = us_states.merge(dec24_sum_mE, left_on='STUSPS', right_on='USASTATE', how='left')\n",
    "us_states = us_states.rename(columns={'VALUE': 'dec24summE'})\n",
    "\n",
    "# merge the january export sum data into the shapefile\n",
    "us_states = us_states.merge(jan25_sum_mE, left_on='STUSPS', right_on='USASTATE', how='left')\n",
    "us_states = us_states.rename(columns={'VALUE': 'jan25summE'})\n",
    "\n",
    "# merge the sum of all imports from mexico\n",
    "us_states = us_states.merge(all_sum_mI, left_on='STUSPS', right_on='USASTATE', how='left')\n",
    "us_states = us_states.rename(columns={'VALUE': 'all_sum_mI'})\n",
    "\n",
    "# merge the sum of all exports to mexico\n",
    "us_states = us_states.merge(all_sum_mE, left_on='STUSPS', right_on='USASTATE', how='left')\n",
    "us_states = us_states.rename(columns={'VALUE': 'all_sum_mE'})\n",
    "\n",
    "# merge the deficit/surplus for mexico\n",
    "us_states = us_states.merge(all_ds_m, left_on='STUSPS', right_on='USASTATE', how='left')\n",
    "us_states = us_states.rename(columns={'VALUE': 'all_ds_m'})\n",
    "\n",
    "\n",
    "\n",
    "print(us_states.head())\n"
   ]
  },
  {
   "cell_type": "code",
   "execution_count": null,
   "metadata": {},
   "outputs": [],
   "source": [
    "# create a new column that, for both Canada and Mexico, sums the difference between the november and january import sums\n",
    "us_states['difn_j_ca'] = us_states['jan25sum_c'] - us_states['nov24sum_c']\n",
    "us_states['difn_j_mx'] = us_states['jan25sum_m'] - us_states['nov24sum_m']\n",
    "\n",
    "# create a new column that adds the difference sums for Canada and Mexico\n",
    "us_states['difn_j_b'] = us_states['difn_j_ca'] + us_states['difn_j_mx']\n",
    "\n",
    "print(us_states.head())"
   ]
  },
  {
   "cell_type": "code",
   "execution_count": null,
   "metadata": {},
   "outputs": [],
   "source": [
    "# sum imports for both\n",
    "us_states['all_sum_I'] = us_states['all_sum_cI'] + us_states['all_sum_mI']\n"
   ]
  },
  {
   "cell_type": "markdown",
   "metadata": {},
   "source": [
    "## Save the file"
   ]
  },
  {
   "cell_type": "code",
   "execution_count": null,
   "metadata": {},
   "outputs": [],
   "source": [
    "\n",
    "# save the shapefile\n",
    "output_path = r\"C:\\Users\\test\\OneDrive - University of Victoria\\W2025\\geog323\\final-proj\\data\\processed\\us_states_trade.shp\"\n",
    "us_states.to_file(output_path)\n",
    "\n",
    "# Attributes we have now:\n",
    "# nov24sum_c, dec24sum_c, jan25sum_c, nov24sum_m, dec24sum_m, jan25sum_m, nov24sumcE, dec24sumcE, jan25sumcE, nov24summE, dec24summE, jan25summE, difn_j_ca, difn_j_mx, difn_j_b\n",
    "# nov24sum_c = sum of imports from Canada in November 2024\n",
    "# dec24sum_c = sum of imports from Canada in December 2024\n",
    "# jan25sum_c = sum of imports from Canada in January 2025\n",
    "# nov24sum_m = sum of imports from Mexico in November 2024\n",
    "# dec24sum_m = sum of imports from Mexico in December 2024\n",
    "# jan25sum_m = sum of imports from Mexico in January 2025\n",
    "# nov24sumcE = sum of exports to Canada in November 2024\n",
    "# dec24sumcE = sum of exports to Canada in December 2024\n",
    "# jan25sumcE = sum of exports to Canada in January 2025\n",
    "# nov24summE = sum of exports to Mexico in November 2024\n",
    "# dec24summE = sum of exports to Mexico in December 2024\n",
    "# jan25summE = sum of exports to Mexico in January 2025\n",
    "# difn_j_ca = difference between sum of imports from Canada in January 2025 and November 2024\n",
    "# difn_j_mx = difference between sum of imports from Mexico in January 2025 and November 2024\n",
    "# difn_j_b = sum of difn_j_ca and difn_j_mx\n",
    "# all_sum_cI = sum of imports from Canada in all three months\n",
    "# all_sum_cE = sum of exports to Canada in all three months\n",
    "# all_sum_mI = sum of imports from Mexico in all three months\n",
    "# all_sum_mE = sum of exports to Mexico in all three months\n",
    "\n",
    "\n",
    "\n",
    "\n"
   ]
  },
  {
   "cell_type": "markdown",
   "metadata": {},
   "source": [
    "### Sources"
   ]
  },
  {
   "cell_type": "markdown",
   "metadata": {},
   "source": [
    "The project used two main data sources: North American Transborder Freight Data from the U.S. Bureau of Transportation Statistics, providing import and export shipment details from November 2024 to January 2025, and U.S. state boundary shapefiles from the United States Census Bureau, updated in 2023. The freight data, originally in CSV format, was transformed into shapefiles for mapping and analysis. Both sources were accessed in March 2025.\n"
   ]
  }
 ],
 "metadata": {
  "kernelspec": {
   "display_name": "base",
   "language": "python",
   "name": "python3"
  },
  "language_info": {
   "codemirror_mode": {
    "name": "ipython",
    "version": 3
   },
   "file_extension": ".py",
   "mimetype": "text/x-python",
   "name": "python",
   "nbconvert_exporter": "python",
   "pygments_lexer": "ipython3",
   "version": "3.12.2"
  }
 },
 "nbformat": 4,
 "nbformat_minor": 2
}
